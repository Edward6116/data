{
 "cells": [
  {
   "cell_type": "code",
   "execution_count": 2,
   "metadata": {},
   "outputs": [],
   "source": [
    "import os\n",
    "import csv\n",
    "import pandas as pd\n",
    "import matplotlib.pyplot as plt\n",
    "import numpy as np\n",
    "\n",
    "%matplotlib inline"
   ]
  },
  {
   "cell_type": "code",
   "execution_count": 9,
   "metadata": {},
   "outputs": [],
   "source": [
    "steak_data = pd.read_csv(\"steak-risk-survey.csv\")"
   ]
  },
  {
   "cell_type": "code",
   "execution_count": 30,
   "metadata": {},
   "outputs": [
    {
     "name": "stdout",
     "output_type": "stream",
     "text": [
      "246 Men\n",
      "268 Women\n"
     ]
    }
   ],
   "source": [
    "steak_data_men = len(steak_data[steak_data.Gender == 'Male'])\n",
    "steak_data_women = len(steak_data[steak_data.Gender == 'Female'])\n",
    "print str(steak_data_men)+\" Men\"\n",
    "print str(steak_data_women)+\" Women\"\n"
   ]
  },
  {
   "cell_type": "code",
   "execution_count": 42,
   "metadata": {},
   "outputs": [
    {
     "data": {
      "image/png": "[encoded data removed]",
      "text/plain": [
       "<Figure size 432x288 with 2 Axes>"
      ]
     },
     "metadata": {},
     "output_type": "display_data"
    }
   ],
   "source": [
    "Female_Subset = steak_data[(steak_data['Gender'] == 'Female')]\n",
    "Male_Subset = steak_data[(steak_data['Gender'] == 'Male')]\n",
    "\n",
    "f, (ax1, ax2) = plt.subplots(1, 2, sharey=True)\n",
    "\n",
    "x1=list(Female_Subset['Do you eat steak?'].dropna())\n",
    "x2=list(Male_Subset['Do you eat steak?'].dropna())\n",
    "\n",
    "ax1.hist(x1, normed=False, bins=15,alpha=1,color='pink')\n",
    "ax2.hist(x2, normed=False, bins=15,alpha=1,color='green')\n",
    "\n",
    "ax1.set_title('Women Who Eat Steak')\n",
    "ax2.set_title('Men Who Eat Steak')\n",
    "\n",
    "fig.show()"
   ]
  },
  {
   "cell_type": "code",
   "execution_count": null,
   "metadata": {},
   "outputs": [],
   "source": [
    "fig, ax = plt.subplots()\n",
    "ax.bar(x, y, align='center',color=['red', 'red', 'blue','blue'])\n",
    "plt.xticks(x, names)\n",
    "plt.ylabel('Age')\n",
    "ax.set_title('')\n",
    "fig.show()"
   ]
  }
 ],
 "metadata": {
  "kernelspec": {
   "display_name": "Python 2",
   "language": "python",
   "name": "python2"
  },
  "language_info": {
   "codemirror_mode": {
    "name": "ipython",
    "version": 2
   },
   "file_extension": ".py",
   "mimetype": "text/x-python",
   "name": "python",
   "nbconvert_exporter": "python",
   "pygments_lexer": "ipython2",
   "version": "2.7.15"
  }
 },
 "nbformat": 4,
 "nbformat_minor": 2
}
